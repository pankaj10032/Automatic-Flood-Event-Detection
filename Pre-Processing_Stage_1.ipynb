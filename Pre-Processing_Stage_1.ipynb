{
 "cells": [
  {
   "cell_type": "code",
   "execution_count": 1,
   "metadata": {},
   "outputs": [],
   "source": [
    "## First Stage of Preprocessing\n",
    "\n",
    "import json \n",
    "import numpy as np\n",
    "import os\n",
    "\n",
    "from PIL import Image\n",
    "import tifffile as tiff"
   ]
  },
  {
   "cell_type": "markdown",
   "metadata": {},
   "source": [
    "<h3> Define Functions </h3>"
   ]
  },
  {
   "cell_type": "code",
   "execution_count": 2,
   "metadata": {},
   "outputs": [],
   "source": [
    "def stack_bands(path, product_id):\n",
    "\n",
    "    # Define the list of bands to stack\n",
    "    band_list = ['B02.tif', 'B03.tif', 'B08.tif', 'B11.tif']\n",
    "\n",
    "    # Initialize an empty list to store the data\n",
    "    stacked_data = []\n",
    "    try:\n",
    "        # Loop through each band and stack them\n",
    "        for band_file in band_list:\n",
    "            band_path = os.path.join(path, band_file)\n",
    "            image = tiff.imread(band_path)\n",
    "            \n",
    "            #to make sure every image has 512 * 512(Resizing is done only to reduce the total size of the dataset)\n",
    "            pil_image = Image.fromarray(image)\n",
    "            resized_image = pil_image.resize((256, 256))\n",
    "\n",
    "            resize_array = np.array(resized_image)\n",
    "            stacked_data.append(resize_array)\n",
    "\n",
    "        # Stack the data along a new axis\n",
    "        stacked_data = np.stack(stacked_data, axis=-1)\n",
    "\n",
    "        # Save the stacked data as a new .tif file\n",
    "        output_path = os.path.join(path, 'stack.tif')\n",
    "        tiff.imsave(output_path, stacked_data)\n",
    "    except:\n",
    "        print(f\"file with no data: {path}\")\n",
    "        pass"
   ]
  },
  {
   "cell_type": "code",
   "execution_count": 3,
   "metadata": {},
   "outputs": [],
   "source": [
    "def product_name(path):\n",
    "    json_data=open(path+\"/stac.json\", \"rb\")\n",
    "    jdata = json.load(json_data)\n",
    "    \n",
    "    return  jdata['id']"
   ]
  },
  {
   "cell_type": "code",
   "execution_count": 4,
   "metadata": {},
   "outputs": [],
   "source": [
    "def check_file_in_folder(folder_path, file_name):\n",
    "    file_path = os.path.join(folder_path, file_name)\n",
    "    if os.path.isfile(file_path):\n",
    "        return True\n",
    "    else:\n",
    "        return False"
   ]
  },
  {
   "cell_type": "code",
   "execution_count": 5,
   "metadata": {},
   "outputs": [],
   "source": [
    "# This functions deletes a folder and its containds if no spectral band is included\n",
    "import shutil\n",
    "\n",
    "def remove_empty_folders(path):\n",
    "    print(f\"Deleted: {path}\")\n",
    "    #os.remove(path) # to remove any specific file like jpeg, png, tif\n",
    "    shutil.rmtree(path) # to remove any specific folder"
   ]
  },
  {
   "cell_type": "code",
   "execution_count": 6,
   "metadata": {},
   "outputs": [
    {
     "name": "stdout",
     "output_type": "stream",
     "text": [
      "The number of folders are currently = 1949\n"
     ]
    }
   ],
   "source": [
    "# Create a list with all the folders\n",
    "flist = []\n",
    "rootdir = 'C:/Users/amitr/OneDrive/Desktop/Fllod Detection/sen12floods_s2_source'\n",
    "for file in os.listdir(rootdir):\n",
    "    d = os.path.join(rootdir, file)\n",
    "    if os.path.isdir(d):\n",
    "        flist.append(d)\n",
    "        \n",
    "print(f\"The number of folders are currently = {len(flist)}\")"
   ]
  },
  {
   "cell_type": "code",
   "execution_count": null,
   "metadata": {},
   "outputs": [],
   "source": [
    "#####################################################################################################################"
   ]
  },
  {
   "cell_type": "code",
   "execution_count": 7,
   "metadata": {
    "scrolled": true
   },
   "outputs": [],
   "source": [
    "# Iterate through all folders and create a new image with 4 spectral bands, namely Band2, Band3, Band8 and Band 11. \n",
    "# These bands correspend to blue, green, infrared respectively and SWIR\n",
    "\n",
    "for folder_path in flist:\n",
    "    product_id = product_name(folder_path)\n",
    "    stack_bands(folder_path, product_id)"
   ]
  },
  {
   "cell_type": "code",
   "execution_count": null,
   "metadata": {},
   "outputs": [],
   "source": [
    "stack = 0\n",
    "pixel = 0\n",
    "\n",
    "for folder_path in flist:\n",
    "    contain = check_file_in_folder(folder_path, 'stack.tif') #check if the folder contains stack image\n",
    "    if (contain == False):\n",
    "        remove_empty_folders(folder_path)\n",
    "        stack += 1\n",
    "    else:\n",
    "        stack_path = os.path.join(folder_path, 'stack.tif')\n",
    "        stack_image = tiff.imread(stack_path)\n",
    "        if(np.argmax(stack_image) == 0):\n",
    "            remove_empty_folders(folder_path)\n",
    "            pixel += 1\n",
    "\n",
    "print(f\"Folder not cntaining stack file:  {stack}\")\n",
    "print(f\"stack file contain only 0 pixel:  {pixel}\")"
   ]
  },
  {
   "cell_type": "code",
   "execution_count": null,
   "metadata": {},
   "outputs": [],
   "source": [
    "#to remove stack file\n",
    "# stack = 0\n",
    "\n",
    "# for folder_path in flist:\n",
    "#     contain = check_file_in_folder(folder_path, 'stack.tif') #check if the folder contains stack image\n",
    "#     if (contain):\n",
    "#         stack_path = os.path.join(folder_path, 'stack.tif')\n",
    "#         remove_empty_folders(stack_path)\n",
    "#         stack += 1\n",
    "\n",
    "# print(f\"Folder not cntaining stack file:  {stack}\")"
   ]
  },
  {
   "cell_type": "code",
   "execution_count": null,
   "metadata": {},
   "outputs": [],
   "source": [
    "# Create a list with all the folders after removing all the useless folder\n",
    "flist = []\n",
    "rootdir = 'C:/Users/amitr/OneDrive/Desktop/Fllod Detection/sen12floods_s2_source'\n",
    "for file in os.listdir(rootdir):\n",
    "    d = os.path.join(rootdir, file)\n",
    "    if os.path.isdir(d):\n",
    "        flist.append(d)\n",
    "        \n",
    "print(f\"The number of folders after the prepocessing = {len(flist)}\")"
   ]
  },
  {
   "cell_type": "code",
   "execution_count": null,
   "metadata": {},
   "outputs": [],
   "source": [
    "output_path = 'C:/Users/amitr/OneDrive/Desktop/Fllod Detection/sen12floods_s2_source/sen12floods_s2_source_0001_2018_12_18/stack.tif'\n",
    "\n",
    "saved_stacked_data = tiff.imread(output_path)\n",
    "stacked_shape = saved_stacked_data.shape\n",
    "\n",
    "print(\"Shape of the saved stacked TIFF file:\", stacked_shape)"
   ]
  },
  {
   "cell_type": "code",
   "execution_count": null,
   "metadata": {},
   "outputs": [],
   "source": [
    "##The first stage of preprocessing has been completed."
   ]
  }
 ],
 "metadata": {
  "kernelspec": {
   "display_name": "Python 3 (ipykernel)",
   "language": "python",
   "name": "python3"
  },
  "language_info": {
   "codemirror_mode": {
    "name": "ipython",
    "version": 3
   },
   "file_extension": ".py",
   "mimetype": "text/x-python",
   "name": "python",
   "nbconvert_exporter": "python",
   "pygments_lexer": "ipython3",
   "version": "3.9.16"
  }
 },
 "nbformat": 4,
 "nbformat_minor": 4
}
